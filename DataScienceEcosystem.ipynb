{
 "cells": [
  {
   "cell_type": "markdown",
   "id": "bb719f77-8b9d-46b0-8f00-a4c74c2bc45f",
   "metadata": {},
   "source": [
    "# Data Science Tools and Ecosystems"
   ]
  },
  {
   "cell_type": "markdown",
   "id": "763d70aa-8f4b-4e84-bfae-d313dcb40333",
   "metadata": {},
   "source": [
    "In this notebook, Data Science Tools and Ecosystem are summarized."
   ]
  },
  {
   "cell_type": "markdown",
   "id": "192b465b-7510-4295-b5c5-0bcf277cb0a3",
   "metadata": {},
   "source": [
    "**Objectives:**  \n",
    "* List popular languages for data science\n",
    "* List popular libraries for data science\n",
    "* List popular tools for data science"
   ]
  },
  {
   "cell_type": "markdown",
   "id": "60acb3e4-9b47-4397-80a0-28b28c18b06d",
   "metadata": {},
   "source": [
    "Some of the popular languages that Data Scientists use are:\n",
    "1. Python\n",
    "2. R\n",
    "3. SQL\n",
    "4. Java\n",
    "5. Julia"
   ]
  },
  {
   "cell_type": "markdown",
   "id": "88f47a6c-0d26-4e59-b4d5-0d8368e8c8ff",
   "metadata": {},
   "source": [
    "Some of the commonly used libraries used by Data Scientists include:\n",
    "1. Pandas\n",
    "2. NumPy\n",
    "3. Matplotlib\n",
    "4. scikit-learn"
   ]
  },
  {
   "cell_type": "markdown",
   "id": "85d01c23-8a2c-40c6-874c-1da556c42990",
   "metadata": {},
   "source": [
    "|Data Science Tools|\n",
    "|-|\n",
    "|MySQL|\n",
    "|Apache Hadoop|\n",
    "|Jupyter|"
   ]
  },
  {
   "cell_type": "markdown",
   "id": "ff11a7d5-e440-4d6e-aad1-52d89ab06f6e",
   "metadata": {},
   "source": [
    "### Below are a few examples of evaluating arithmetic expressions in Python.\n"
   ]
  },
  {
   "cell_type": "code",
   "execution_count": 1,
   "id": "4ab3bc21-529c-457e-a99d-5cb19e00d3ad",
   "metadata": {},
   "outputs": [
    {
     "data": {
      "text/plain": [
       "17"
      ]
     },
     "execution_count": 1,
     "metadata": {},
     "output_type": "execute_result"
    }
   ],
   "source": [
    "#This a simple arithmetic expression to mutiply then add integers\n",
    "(3*4)+5"
   ]
  },
  {
   "cell_type": "code",
   "execution_count": 2,
   "id": "9d115fdf-c425-47ee-8185-15f3ef7d9204",
   "metadata": {},
   "outputs": [
    {
     "data": {
      "text/plain": [
       "3.3333333333333335"
      ]
     },
     "execution_count": 2,
     "metadata": {},
     "output_type": "execute_result"
    }
   ],
   "source": [
    "#This will convert 200 minutes to hours by diving by 60\n",
    "200/60"
   ]
  },
  {
   "cell_type": "markdown",
   "id": "cc1c6998-d421-49d2-a0d7-16a86c4f0686",
   "metadata": {},
   "source": [
    "## Author\n",
    "Marwan Elhodaiby"
   ]
  }
 ],
 "metadata": {
  "kernelspec": {
   "display_name": "Python",
   "language": "python",
   "name": "conda-env-python-py"
  },
  "language_info": {
   "codemirror_mode": {
    "name": "ipython",
    "version": 3
   },
   "file_extension": ".py",
   "mimetype": "text/x-python",
   "name": "python",
   "nbconvert_exporter": "python",
   "pygments_lexer": "ipython3",
   "version": "3.7.12"
  }
 },
 "nbformat": 4,
 "nbformat_minor": 5
}
